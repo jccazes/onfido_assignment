{
 "cells": [
  {
   "cell_type": "code",
   "execution_count": 1,
   "id": "50be7a5b",
   "metadata": {},
   "outputs": [],
   "source": [
    "import pandas as pd \n",
    "import numpy as np \n",
    "import seaborn as sns \n",
    "import matplotlib.pyplot as plt"
   ]
  },
  {
   "cell_type": "code",
   "execution_count": 16,
   "id": "e3900a97",
   "metadata": {},
   "outputs": [],
   "source": [
    "report = pd.read_excel('data.xlsx', sheet_name=\"Document Report\")\n",
    "clients = pd.read_excel('data.xlsx', sheet_name=\"Clients\")\n",
    "h_a = pd.read_excel('data.xlsx', sheet_name=\"Human Agent\")"
   ]
  },
  {
   "cell_type": "code",
   "execution_count": 17,
   "id": "e54713d0",
   "metadata": {},
   "outputs": [
    {
     "data": {
      "text/html": [
       "<div>\n",
       "<style scoped>\n",
       "    .dataframe tbody tr th:only-of-type {\n",
       "        vertical-align: middle;\n",
       "    }\n",
       "\n",
       "    .dataframe tbody tr th {\n",
       "        vertical-align: top;\n",
       "    }\n",
       "\n",
       "    .dataframe thead th {\n",
       "        text-align: right;\n",
       "    }\n",
       "</style>\n",
       "<table border=\"1\" class=\"dataframe\">\n",
       "  <thead>\n",
       "    <tr style=\"text-align: right;\">\n",
       "      <th></th>\n",
       "      <th>Report ID</th>\n",
       "      <th>Client ID</th>\n",
       "      <th>Fraud Result</th>\n",
       "      <th>Document Type</th>\n",
       "      <th>Issuing country</th>\n",
       "      <th>Report Completed Date</th>\n",
       "      <th>Report Turn-Around-Time (secs)</th>\n",
       "    </tr>\n",
       "  </thead>\n",
       "  <tbody>\n",
       "    <tr>\n",
       "      <th>0</th>\n",
       "      <td>102730387.0</td>\n",
       "      <td>14.0</td>\n",
       "      <td>Clear</td>\n",
       "      <td>Passport</td>\n",
       "      <td>Philippines</td>\n",
       "      <td>2021-02-11</td>\n",
       "      <td>147.0</td>\n",
       "    </tr>\n",
       "    <tr>\n",
       "      <th>1</th>\n",
       "      <td>138965999.0</td>\n",
       "      <td>15.0</td>\n",
       "      <td>Clear</td>\n",
       "      <td>Passport</td>\n",
       "      <td>United Kingdom of Great Britain and Northern I...</td>\n",
       "      <td>2021-03-13</td>\n",
       "      <td>260.0</td>\n",
       "    </tr>\n",
       "    <tr>\n",
       "      <th>2</th>\n",
       "      <td>117919008.0</td>\n",
       "      <td>19.0</td>\n",
       "      <td>Suspected</td>\n",
       "      <td>Driving Licence</td>\n",
       "      <td>United States of America</td>\n",
       "      <td>2021-01-13</td>\n",
       "      <td>160.0</td>\n",
       "    </tr>\n",
       "    <tr>\n",
       "      <th>3</th>\n",
       "      <td>123459413.0</td>\n",
       "      <td>3.0</td>\n",
       "      <td>Clear</td>\n",
       "      <td>Passport</td>\n",
       "      <td>Lithuania</td>\n",
       "      <td>2021-01-30</td>\n",
       "      <td>200.0</td>\n",
       "    </tr>\n",
       "    <tr>\n",
       "      <th>4</th>\n",
       "      <td>109493562.0</td>\n",
       "      <td>7.0</td>\n",
       "      <td>Clear</td>\n",
       "      <td>Driving Licence</td>\n",
       "      <td>France</td>\n",
       "      <td>2021-03-28</td>\n",
       "      <td>373.0</td>\n",
       "    </tr>\n",
       "  </tbody>\n",
       "</table>\n",
       "</div>"
      ],
      "text/plain": [
       "     Report ID  Client ID Fraud Result    Document Type  \\\n",
       "0  102730387.0       14.0        Clear         Passport   \n",
       "1  138965999.0       15.0        Clear         Passport   \n",
       "2  117919008.0       19.0    Suspected  Driving Licence   \n",
       "3  123459413.0        3.0        Clear         Passport   \n",
       "4  109493562.0        7.0        Clear  Driving Licence   \n",
       "\n",
       "                                     Issuing country Report Completed Date  \\\n",
       "0                                        Philippines            2021-02-11   \n",
       "1  United Kingdom of Great Britain and Northern I...            2021-03-13   \n",
       "2                           United States of America            2021-01-13   \n",
       "3                                          Lithuania            2021-01-30   \n",
       "4                                             France            2021-03-28   \n",
       "\n",
       "   Report Turn-Around-Time (secs)  \n",
       "0                           147.0  \n",
       "1                           260.0  \n",
       "2                           160.0  \n",
       "3                           200.0  \n",
       "4                           373.0  "
      ]
     },
     "execution_count": 17,
     "metadata": {},
     "output_type": "execute_result"
    }
   ],
   "source": [
    "report.head()"
   ]
  },
  {
   "cell_type": "code",
   "execution_count": 18,
   "id": "a5365ae1",
   "metadata": {},
   "outputs": [
    {
     "data": {
      "text/html": [
       "<div>\n",
       "<style scoped>\n",
       "    .dataframe tbody tr th:only-of-type {\n",
       "        vertical-align: middle;\n",
       "    }\n",
       "\n",
       "    .dataframe tbody tr th {\n",
       "        vertical-align: top;\n",
       "    }\n",
       "\n",
       "    .dataframe thead th {\n",
       "        text-align: right;\n",
       "    }\n",
       "</style>\n",
       "<table border=\"1\" class=\"dataframe\">\n",
       "  <thead>\n",
       "    <tr style=\"text-align: right;\">\n",
       "      <th></th>\n",
       "      <th>Client ID</th>\n",
       "      <th>Industry</th>\n",
       "      <th>Country</th>\n",
       "    </tr>\n",
       "  </thead>\n",
       "  <tbody>\n",
       "    <tr>\n",
       "      <th>0</th>\n",
       "      <td>1.0</td>\n",
       "      <td>Banking</td>\n",
       "      <td>United Kingdom of Great Britain and Northern I...</td>\n",
       "    </tr>\n",
       "    <tr>\n",
       "      <th>1</th>\n",
       "      <td>2.0</td>\n",
       "      <td>Banking</td>\n",
       "      <td>United Kingdom of Great Britain and Northern I...</td>\n",
       "    </tr>\n",
       "    <tr>\n",
       "      <th>2</th>\n",
       "      <td>3.0</td>\n",
       "      <td>Banking</td>\n",
       "      <td>France</td>\n",
       "    </tr>\n",
       "    <tr>\n",
       "      <th>3</th>\n",
       "      <td>4.0</td>\n",
       "      <td>Banking</td>\n",
       "      <td>Spain</td>\n",
       "    </tr>\n",
       "    <tr>\n",
       "      <th>4</th>\n",
       "      <td>5.0</td>\n",
       "      <td>Banking</td>\n",
       "      <td>Portugal</td>\n",
       "    </tr>\n",
       "  </tbody>\n",
       "</table>\n",
       "</div>"
      ],
      "text/plain": [
       "   Client ID Industry                                            Country\n",
       "0        1.0  Banking  United Kingdom of Great Britain and Northern I...\n",
       "1        2.0  Banking  United Kingdom of Great Britain and Northern I...\n",
       "2        3.0  Banking                                             France\n",
       "3        4.0  Banking                                              Spain\n",
       "4        5.0  Banking                                           Portugal"
      ]
     },
     "execution_count": 18,
     "metadata": {},
     "output_type": "execute_result"
    }
   ],
   "source": [
    "clients.head()"
   ]
  },
  {
   "cell_type": "code",
   "execution_count": 19,
   "id": "eef0f5e8",
   "metadata": {},
   "outputs": [
    {
     "data": {
      "text/html": [
       "<div>\n",
       "<style scoped>\n",
       "    .dataframe tbody tr th:only-of-type {\n",
       "        vertical-align: middle;\n",
       "    }\n",
       "\n",
       "    .dataframe tbody tr th {\n",
       "        vertical-align: top;\n",
       "    }\n",
       "\n",
       "    .dataframe thead th {\n",
       "        text-align: right;\n",
       "    }\n",
       "</style>\n",
       "<table border=\"1\" class=\"dataframe\">\n",
       "  <thead>\n",
       "    <tr style=\"text-align: right;\">\n",
       "      <th></th>\n",
       "      <th>Report ID</th>\n",
       "      <th>Task ID</th>\n",
       "      <th>Task Type</th>\n",
       "      <th>Task Turn-Around-Time (secs)</th>\n",
       "      <th>Agency (Manual Processing Organisation)</th>\n",
       "      <th>Agent Seniority</th>\n",
       "    </tr>\n",
       "  </thead>\n",
       "  <tbody>\n",
       "    <tr>\n",
       "      <th>0</th>\n",
       "      <td>136115188.0</td>\n",
       "      <td>69038945.0</td>\n",
       "      <td>Fraud Assessment</td>\n",
       "      <td>39.0</td>\n",
       "      <td>3.0</td>\n",
       "      <td>Junior</td>\n",
       "    </tr>\n",
       "    <tr>\n",
       "      <th>1</th>\n",
       "      <td>124025203.0</td>\n",
       "      <td>60575464.0</td>\n",
       "      <td>Extraction</td>\n",
       "      <td>118.0</td>\n",
       "      <td>3.0</td>\n",
       "      <td>Junior</td>\n",
       "    </tr>\n",
       "    <tr>\n",
       "      <th>2</th>\n",
       "      <td>113034309.0</td>\n",
       "      <td>52564826.0</td>\n",
       "      <td>Fraud Assessment</td>\n",
       "      <td>35.0</td>\n",
       "      <td>3.0</td>\n",
       "      <td>Junior</td>\n",
       "    </tr>\n",
       "    <tr>\n",
       "      <th>3</th>\n",
       "      <td>133661310.0</td>\n",
       "      <td>67305979.0</td>\n",
       "      <td>Extraction</td>\n",
       "      <td>86.0</td>\n",
       "      <td>3.0</td>\n",
       "      <td>Junior</td>\n",
       "    </tr>\n",
       "    <tr>\n",
       "      <th>4</th>\n",
       "      <td>133800920.0</td>\n",
       "      <td>67408713.0</td>\n",
       "      <td>Fraud Assessment</td>\n",
       "      <td>51.0</td>\n",
       "      <td>3.0</td>\n",
       "      <td>Junior</td>\n",
       "    </tr>\n",
       "  </tbody>\n",
       "</table>\n",
       "</div>"
      ],
      "text/plain": [
       "     Report ID     Task ID         Task Type  Task Turn-Around-Time (secs)  \\\n",
       "0  136115188.0  69038945.0  Fraud Assessment                          39.0   \n",
       "1  124025203.0  60575464.0        Extraction                         118.0   \n",
       "2  113034309.0  52564826.0  Fraud Assessment                          35.0   \n",
       "3  133661310.0  67305979.0        Extraction                          86.0   \n",
       "4  133800920.0  67408713.0  Fraud Assessment                          51.0   \n",
       "\n",
       "   Agency (Manual Processing Organisation) Agent Seniority  \n",
       "0                                      3.0          Junior  \n",
       "1                                      3.0          Junior  \n",
       "2                                      3.0          Junior  \n",
       "3                                      3.0          Junior  \n",
       "4                                      3.0          Junior  "
      ]
     },
     "execution_count": 19,
     "metadata": {},
     "output_type": "execute_result"
    }
   ],
   "source": [
    "h_a.head()"
   ]
  },
  {
   "cell_type": "markdown",
   "id": "ff443e6b",
   "metadata": {},
   "source": [
    "# Dtypes check"
   ]
  },
  {
   "cell_type": "code",
   "execution_count": 20,
   "id": "c61b71ba",
   "metadata": {},
   "outputs": [
    {
     "data": {
      "text/plain": [
       "Report ID                                float64\n",
       "Client ID                                float64\n",
       "Fraud Result                              object\n",
       "Document Type                             object\n",
       "Issuing country                           object\n",
       "Report Completed Date             datetime64[ns]\n",
       "Report Turn-Around-Time (secs)           float64\n",
       "dtype: object"
      ]
     },
     "execution_count": 20,
     "metadata": {},
     "output_type": "execute_result"
    }
   ],
   "source": [
    "report.dtypes"
   ]
  },
  {
   "cell_type": "code",
   "execution_count": 22,
   "id": "e9d8d030",
   "metadata": {},
   "outputs": [],
   "source": [
    "report['Report ID'] = report['Report ID'].astype(int)\n",
    "report['Client ID'] = report['Client ID'].astype(int)"
   ]
  },
  {
   "cell_type": "code",
   "execution_count": 27,
   "id": "f5b952ed",
   "metadata": {},
   "outputs": [
    {
     "data": {
      "text/plain": [
       "Client ID     int64\n",
       "Industry     object\n",
       "Country      object\n",
       "dtype: object"
      ]
     },
     "execution_count": 27,
     "metadata": {},
     "output_type": "execute_result"
    }
   ],
   "source": [
    "clients.dtypes"
   ]
  },
  {
   "cell_type": "code",
   "execution_count": 26,
   "id": "cea1ba01",
   "metadata": {},
   "outputs": [],
   "source": [
    "clients['Client ID'] = clients['Client ID'].astype(int)"
   ]
  },
  {
   "cell_type": "code",
   "execution_count": 28,
   "id": "8cb1ba27",
   "metadata": {},
   "outputs": [
    {
     "data": {
      "text/plain": [
       "Report ID                                  float64\n",
       "Task ID                                    float64\n",
       "Task Type                                   object\n",
       "Task Turn-Around-Time (secs)               float64\n",
       "Agency (Manual Processing Organisation)    float64\n",
       "Agent Seniority                             object\n",
       "dtype: object"
      ]
     },
     "execution_count": 28,
     "metadata": {},
     "output_type": "execute_result"
    }
   ],
   "source": [
    "h_a.dtypes"
   ]
  },
  {
   "cell_type": "code",
   "execution_count": 93,
   "id": "10db109e",
   "metadata": {},
   "outputs": [],
   "source": [
    "h_a['Report ID'] = h_a['Report ID'].astype(int)\n",
    "h_a['Task ID'] = h_a['Task ID'].astype(int)\n",
    "h_a['Agency (Manual Processing Organisation)'] = h_a['Agency (Manual Processing Organisation)'].astype(int)"
   ]
  },
  {
   "cell_type": "markdown",
   "id": "e453b2ad",
   "metadata": {},
   "source": [
    "# Categoricals check"
   ]
  },
  {
   "cell_type": "code",
   "execution_count": 39,
   "id": "348980e0",
   "metadata": {},
   "outputs": [
    {
     "name": "stdout",
     "output_type": "stream",
     "text": [
      "                     Fraud Result\n",
      "Clear                       37751\n",
      "Cannot be processed          6108\n",
      "Suspected                    5954 \n",
      "\n",
      "                  Document Type\n",
      "Driving Licence           14856\n",
      "Passport                  14378\n",
      "National ID                9143\n",
      "Not Available              6108\n",
      "Residence Permit           2487\n",
      "Visa                       1921\n",
      "Tax ID                      920 \n",
      "\n",
      "                                                    Issuing country\n",
      "United States of America                                      11094\n",
      "India                                                          6340\n",
      "United Kingdom of Great Britain and Northern Ir...             6241\n",
      "Not Available                                                  6108\n",
      "China                                                          2868\n",
      "...                                                             ...\n",
      "Turkmenistan                                                      1\n",
      "Vanuatu                                                           1\n",
      "Mozambique                                                        1\n",
      "Liberia                                                           1\n",
      "Guinea-Bissau                                                     1\n",
      "\n",
      "[175 rows x 1 columns] \n",
      "\n"
     ]
    }
   ],
   "source": [
    "for col in report.select_dtypes('object').columns:\n",
    "    print(pd.DataFrame(report[col].value_counts()), '\\n')"
   ]
  },
  {
   "cell_type": "code",
   "execution_count": 41,
   "id": "f8c178ff",
   "metadata": {},
   "outputs": [
    {
     "name": "stdout",
     "output_type": "stream",
     "text": [
      "                 Industry\n",
      "Banking                11\n",
      "Crypto Currency         4\n",
      "Car Rental              4\n",
      "Remittance              4\n",
      "Insurance               3\n",
      "E-commerce              2\n",
      "Gaming                  2 \n",
      "\n",
      "                                                    Country\n",
      "United States of America                                  7\n",
      "United Kingdom of Great Britain and Northern Ir...        6\n",
      "France                                                    4\n",
      "Germany                                                   3\n",
      "Italy                                                     3\n",
      "Spain                                                     2\n",
      "Portugal                                                  1\n",
      "Russia                                                    1\n",
      "Canada                                                    1\n",
      "Austria                                                   1\n",
      "Hong Kong                                                 1 \n",
      "\n"
     ]
    }
   ],
   "source": [
    "for col in clients.select_dtypes('object').columns:\n",
    "    print(pd.DataFrame(clients[col].value_counts()), '\\n')"
   ]
  },
  {
   "cell_type": "code",
   "execution_count": 42,
   "id": "909a9f11",
   "metadata": {},
   "outputs": [
    {
     "name": "stdout",
     "output_type": "stream",
     "text": [
      "                  Task Type\n",
      "Fraud Assessment      47975\n",
      "Extraction            46176\n",
      "Classification        19900 \n",
      "\n",
      "        Agent Seniority\n",
      "Junior            72689\n",
      "Senior            41362 \n",
      "\n"
     ]
    }
   ],
   "source": [
    "for col in h_a.select_dtypes('object').columns:\n",
    "    print(pd.DataFrame(h_a[col].value_counts()), '\\n')"
   ]
  },
  {
   "cell_type": "markdown",
   "id": "02607629",
   "metadata": {},
   "source": [
    "# First plots"
   ]
  },
  {
   "cell_type": "code",
   "execution_count": 45,
   "id": "b54dd847",
   "metadata": {},
   "outputs": [],
   "source": [
    "# What kind of documents are harder to analyse?\n",
    "# What kind of documents are the most suspect to fraud?\n",
    "# Is there an industry more prone to fraud?"
   ]
  },
  {
   "cell_type": "code",
   "execution_count": 57,
   "id": "8bc357d8",
   "metadata": {
    "scrolled": false
   },
   "outputs": [
    {
     "data": {
      "text/plain": [
       "<AxesSubplot:xlabel='Issuing country', ylabel='Report Turn-Around-Time (secs)'>"
      ]
     },
     "execution_count": 57,
     "metadata": {},
     "output_type": "execute_result"
    },
    {
     "data": {
      "image/png": "[encoded data removed]",
      "text/plain": [
       "<Figure size 1080x1080 with 1 Axes>"
      ]
     },
     "metadata": {
      "needs_background": "light"
     },
     "output_type": "display_data"
    }
   ],
   "source": [
    "tmp = report.groupby('Issuing country').agg({'Report Turn-Around-Time (secs)': np.nanmean})\n",
    "fig, ax = plt.subplots(figsize = (15,15))\n",
    "sns.barplot(x=\"Issuing country\", y=\"Report Turn-Around-Time (secs)\", data=tmp.reset_index(), ax = ax )"
   ]
  },
  {
   "cell_type": "code",
   "execution_count": 68,
   "id": "56adfe36",
   "metadata": {},
   "outputs": [],
   "source": [
    "# Selecting top 40 countries\n",
    "\n",
    "top_countries = tmp.reset_index().sort_values(by = 'Report Turn-Around-Time (secs)', ascending = False)[0:39]['Issuing country'].values\n",
    "\n",
    "sel = report[report['Issuing country'].isin(top_countries)]"
   ]
  },
  {
   "cell_type": "code",
   "execution_count": 69,
   "id": "6803140e",
   "metadata": {
    "scrolled": false
   },
   "outputs": [
    {
     "data": {
      "text/plain": [
       "<AxesSubplot:xlabel='Issuing country', ylabel='Report Turn-Around-Time (secs)'>"
      ]
     },
     "execution_count": 69,
     "metadata": {},
     "output_type": "execute_result"
    },
    {
     "data": {
      "image/png": "[encoded data removed]",
      "text/plain": [
       "<Figure size 1080x1080 with 1 Axes>"
      ]
     },
     "metadata": {
      "needs_background": "light"
     },
     "output_type": "display_data"
    }
   ],
   "source": [
    "tmp = sel.groupby(['Issuing country','Document Type']).agg({'Report Turn-Around-Time (secs)': np.nanmean})\n",
    "fig, ax = plt.subplots(figsize = (15,15))\n",
    "sns.barplot(x=\"Issuing country\", y=\"Report Turn-Around-Time (secs)\", hue = 'Document Type', data=tmp.reset_index(), ax = ax )"
   ]
  },
  {
   "cell_type": "code",
   "execution_count": 73,
   "id": "069021ce",
   "metadata": {},
   "outputs": [
    {
     "data": {
      "text/html": [
       "<div>\n",
       "<style scoped>\n",
       "    .dataframe tbody tr th:only-of-type {\n",
       "        vertical-align: middle;\n",
       "    }\n",
       "\n",
       "    .dataframe tbody tr th {\n",
       "        vertical-align: top;\n",
       "    }\n",
       "\n",
       "    .dataframe thead th {\n",
       "        text-align: right;\n",
       "    }\n",
       "</style>\n",
       "<table border=\"1\" class=\"dataframe\">\n",
       "  <thead>\n",
       "    <tr style=\"text-align: right;\">\n",
       "      <th></th>\n",
       "      <th></th>\n",
       "      <th>Report Turn-Around-Time (secs)</th>\n",
       "    </tr>\n",
       "    <tr>\n",
       "      <th>Issuing country</th>\n",
       "      <th>Document Type</th>\n",
       "      <th></th>\n",
       "    </tr>\n",
       "  </thead>\n",
       "  <tbody>\n",
       "    <tr>\n",
       "      <th>Belarus</th>\n",
       "      <th>Passport</th>\n",
       "      <td>126767.421053</td>\n",
       "    </tr>\n",
       "    <tr>\n",
       "      <th>Luxembourg</th>\n",
       "      <th>Driving Licence</th>\n",
       "      <td>70329.875000</td>\n",
       "    </tr>\n",
       "    <tr>\n",
       "      <th>Ireland</th>\n",
       "      <th>Tax ID</th>\n",
       "      <td>45613.750000</td>\n",
       "    </tr>\n",
       "    <tr>\n",
       "      <th>Lebanon</th>\n",
       "      <th>Residence Permit</th>\n",
       "      <td>34269.000000</td>\n",
       "    </tr>\n",
       "    <tr>\n",
       "      <th>Italy</th>\n",
       "      <th>Visa</th>\n",
       "      <td>31106.234568</td>\n",
       "    </tr>\n",
       "    <tr>\n",
       "      <th>...</th>\n",
       "      <th>...</th>\n",
       "      <td>...</td>\n",
       "    </tr>\n",
       "    <tr>\n",
       "      <th>Jamaica</th>\n",
       "      <th>Tax ID</th>\n",
       "      <td>119.000000</td>\n",
       "    </tr>\n",
       "    <tr>\n",
       "      <th>Indonesia</th>\n",
       "      <th>Tax ID</th>\n",
       "      <td>115.200000</td>\n",
       "    </tr>\n",
       "    <tr>\n",
       "      <th rowspan=\"2\" valign=\"top\">Bangladesh</th>\n",
       "      <th>Residence Permit</th>\n",
       "      <td>109.000000</td>\n",
       "    </tr>\n",
       "    <tr>\n",
       "      <th>Tax ID</th>\n",
       "      <td>93.000000</td>\n",
       "    </tr>\n",
       "    <tr>\n",
       "      <th>Venezuela (Bolivarian Republic of)</th>\n",
       "      <th>Visa</th>\n",
       "      <td>88.333333</td>\n",
       "    </tr>\n",
       "  </tbody>\n",
       "</table>\n",
       "<p>211 rows × 1 columns</p>\n",
       "</div>"
      ],
      "text/plain": [
       "                                                     Report Turn-Around-Time (secs)\n",
       "Issuing country                    Document Type                                   \n",
       "Belarus                            Passport                           126767.421053\n",
       "Luxembourg                         Driving Licence                     70329.875000\n",
       "Ireland                            Tax ID                              45613.750000\n",
       "Lebanon                            Residence Permit                    34269.000000\n",
       "Italy                              Visa                                31106.234568\n",
       "...                                                                             ...\n",
       "Jamaica                            Tax ID                                119.000000\n",
       "Indonesia                          Tax ID                                115.200000\n",
       "Bangladesh                         Residence Permit                      109.000000\n",
       "                                   Tax ID                                 93.000000\n",
       "Venezuela (Bolivarian Republic of) Visa                                   88.333333\n",
       "\n",
       "[211 rows x 1 columns]"
      ]
     },
     "execution_count": 73,
     "metadata": {},
     "output_type": "execute_result"
    }
   ],
   "source": [
    "tmp.sort_values(by = 'Report Turn-Around-Time (secs)', ascending = False)"
   ]
  },
  {
   "cell_type": "markdown",
   "id": "ddae4a2c",
   "metadata": {},
   "source": [
    "# Documents difficiles en général?"
   ]
  },
  {
   "cell_type": "code",
   "execution_count": 76,
   "id": "5a0bc685",
   "metadata": {},
   "outputs": [
    {
     "data": {
      "text/html": [
       "<div>\n",
       "<style scoped>\n",
       "    .dataframe tbody tr th:only-of-type {\n",
       "        vertical-align: middle;\n",
       "    }\n",
       "\n",
       "    .dataframe tbody tr th {\n",
       "        vertical-align: top;\n",
       "    }\n",
       "\n",
       "    .dataframe thead th {\n",
       "        text-align: right;\n",
       "    }\n",
       "</style>\n",
       "<table border=\"1\" class=\"dataframe\">\n",
       "  <thead>\n",
       "    <tr style=\"text-align: right;\">\n",
       "      <th></th>\n",
       "      <th>Report Turn-Around-Time (secs)</th>\n",
       "    </tr>\n",
       "    <tr>\n",
       "      <th>Document Type</th>\n",
       "      <th></th>\n",
       "    </tr>\n",
       "  </thead>\n",
       "  <tbody>\n",
       "    <tr>\n",
       "      <th>Driving Licence</th>\n",
       "      <td>5972.347940</td>\n",
       "    </tr>\n",
       "    <tr>\n",
       "      <th>Residence Permit</th>\n",
       "      <td>5410.490551</td>\n",
       "    </tr>\n",
       "    <tr>\n",
       "      <th>Not Available</th>\n",
       "      <td>4920.030779</td>\n",
       "    </tr>\n",
       "    <tr>\n",
       "      <th>National ID</th>\n",
       "      <td>4486.138685</td>\n",
       "    </tr>\n",
       "    <tr>\n",
       "      <th>Passport</th>\n",
       "      <td>4262.876826</td>\n",
       "    </tr>\n",
       "    <tr>\n",
       "      <th>Tax ID</th>\n",
       "      <td>2215.965217</td>\n",
       "    </tr>\n",
       "    <tr>\n",
       "      <th>Visa</th>\n",
       "      <td>2132.585632</td>\n",
       "    </tr>\n",
       "  </tbody>\n",
       "</table>\n",
       "</div>"
      ],
      "text/plain": [
       "                  Report Turn-Around-Time (secs)\n",
       "Document Type                                   \n",
       "Driving Licence                      5972.347940\n",
       "Residence Permit                     5410.490551\n",
       "Not Available                        4920.030779\n",
       "National ID                          4486.138685\n",
       "Passport                             4262.876826\n",
       "Tax ID                               2215.965217\n",
       "Visa                                 2132.585632"
      ]
     },
     "execution_count": 76,
     "metadata": {},
     "output_type": "execute_result"
    }
   ],
   "source": [
    "tmp = report.groupby('Document Type').agg({'Report Turn-Around-Time (secs)': np.nanmean})\n",
    "tmp.sort_values(by = 'Report Turn-Around-Time (secs)', ascending = False)"
   ]
  },
  {
   "cell_type": "code",
   "execution_count": null,
   "id": "10e67a7c",
   "metadata": {},
   "outputs": [],
   "source": [
    "# DLicences and Residence Permit, Not avalaible (inclassables), NID and Passport take significantly more"
   ]
  },
  {
   "cell_type": "markdown",
   "id": "e626c26d",
   "metadata": {},
   "source": [
    "# Fraud Assessment"
   ]
  },
  {
   "cell_type": "code",
   "execution_count": 97,
   "id": "43308a66",
   "metadata": {},
   "outputs": [
    {
     "name": "stdout",
     "output_type": "stream",
     "text": [
      "Report ID : 0\n",
      "Client ID : 0\n",
      "Fraud Result : 0\n",
      "Document Type : 0\n",
      "Issuing country : 0\n",
      "Report Completed Date : 0\n",
      "Report Turn-Around-Time (secs) : 0\n",
      "Task ID : 0\n",
      "Task Type : 0\n",
      "Task Turn-Around-Time (secs) : 0\n",
      "Agency (Manual Processing Organisation) : 0\n",
      "Agent Seniority : 0\n"
     ]
    }
   ],
   "source": [
    "tmp = report.merge(h_a, how = 'left', on = 'Report ID')\n",
    "\n",
    "for col in tmp.columns:\n",
    "    print(col, ':', np.sum(tmp[col].isnull()))"
   ]
  },
  {
   "cell_type": "code",
   "execution_count": 98,
   "id": "0072498b",
   "metadata": {},
   "outputs": [
    {
     "data": {
      "text/html": [
       "<div>\n",
       "<style scoped>\n",
       "    .dataframe tbody tr th:only-of-type {\n",
       "        vertical-align: middle;\n",
       "    }\n",
       "\n",
       "    .dataframe tbody tr th {\n",
       "        vertical-align: top;\n",
       "    }\n",
       "\n",
       "    .dataframe thead th {\n",
       "        text-align: right;\n",
       "    }\n",
       "</style>\n",
       "<table border=\"1\" class=\"dataframe\">\n",
       "  <thead>\n",
       "    <tr style=\"text-align: right;\">\n",
       "      <th></th>\n",
       "      <th>Report ID</th>\n",
       "      <th>Client ID</th>\n",
       "      <th>Fraud Result</th>\n",
       "      <th>Document Type</th>\n",
       "      <th>Issuing country</th>\n",
       "      <th>Report Completed Date</th>\n",
       "      <th>Report Turn-Around-Time (secs)</th>\n",
       "      <th>Task ID</th>\n",
       "      <th>Task Type</th>\n",
       "      <th>Task Turn-Around-Time (secs)</th>\n",
       "      <th>Agency (Manual Processing Organisation)</th>\n",
       "      <th>Agent Seniority</th>\n",
       "    </tr>\n",
       "  </thead>\n",
       "  <tbody>\n",
       "    <tr>\n",
       "      <th>0</th>\n",
       "      <td>102730387</td>\n",
       "      <td>14</td>\n",
       "      <td>Clear</td>\n",
       "      <td>Passport</td>\n",
       "      <td>Philippines</td>\n",
       "      <td>2021-02-11</td>\n",
       "      <td>147.0</td>\n",
       "      <td>44620808</td>\n",
       "      <td>Extraction</td>\n",
       "      <td>58.0</td>\n",
       "      <td>2</td>\n",
       "      <td>Senior</td>\n",
       "    </tr>\n",
       "    <tr>\n",
       "      <th>1</th>\n",
       "      <td>102730387</td>\n",
       "      <td>14</td>\n",
       "      <td>Clear</td>\n",
       "      <td>Passport</td>\n",
       "      <td>Philippines</td>\n",
       "      <td>2021-02-11</td>\n",
       "      <td>147.0</td>\n",
       "      <td>44620809</td>\n",
       "      <td>Fraud Assessment</td>\n",
       "      <td>14.0</td>\n",
       "      <td>2</td>\n",
       "      <td>Senior</td>\n",
       "    </tr>\n",
       "    <tr>\n",
       "      <th>2</th>\n",
       "      <td>102730387</td>\n",
       "      <td>14</td>\n",
       "      <td>Clear</td>\n",
       "      <td>Passport</td>\n",
       "      <td>Philippines</td>\n",
       "      <td>2021-02-11</td>\n",
       "      <td>147.0</td>\n",
       "      <td>44620727</td>\n",
       "      <td>Classification</td>\n",
       "      <td>35.0</td>\n",
       "      <td>5</td>\n",
       "      <td>Junior</td>\n",
       "    </tr>\n",
       "  </tbody>\n",
       "</table>\n",
       "</div>"
      ],
      "text/plain": [
       "   Report ID  Client ID Fraud Result Document Type Issuing country  \\\n",
       "0  102730387         14        Clear      Passport     Philippines   \n",
       "1  102730387         14        Clear      Passport     Philippines   \n",
       "2  102730387         14        Clear      Passport     Philippines   \n",
       "\n",
       "  Report Completed Date  Report Turn-Around-Time (secs)   Task ID  \\\n",
       "0            2021-02-11                           147.0  44620808   \n",
       "1            2021-02-11                           147.0  44620809   \n",
       "2            2021-02-11                           147.0  44620727   \n",
       "\n",
       "          Task Type  Task Turn-Around-Time (secs)  \\\n",
       "0        Extraction                          58.0   \n",
       "1  Fraud Assessment                          14.0   \n",
       "2    Classification                          35.0   \n",
       "\n",
       "   Agency (Manual Processing Organisation) Agent Seniority  \n",
       "0                                        2          Senior  \n",
       "1                                        2          Senior  \n",
       "2                                        5          Junior  "
      ]
     },
     "execution_count": 98,
     "metadata": {},
     "output_type": "execute_result"
    }
   ],
   "source": [
    "tmp[tmp['Report ID'] == 102730387]"
   ]
  },
  {
   "cell_type": "code",
   "execution_count": 99,
   "id": "11acb5a0",
   "metadata": {},
   "outputs": [
    {
     "data": {
      "text/plain": [
       "Fraud Assessment    47973\n",
       "Extraction          46174\n",
       "Classification      19899\n",
       "Name: Task Type, dtype: int64"
      ]
     },
     "execution_count": 99,
     "metadata": {},
     "output_type": "execute_result"
    }
   ],
   "source": [
    "# 3 types de tasks, pas toujours la meme personne\n",
    "\n",
    "tmp['Task Type'].value_counts()"
   ]
  },
  {
   "cell_type": "code",
   "execution_count": 100,
   "id": "6213a382",
   "metadata": {},
   "outputs": [],
   "source": [
    "# Y a t il une difference entre Agences?"
   ]
  },
  {
   "cell_type": "code",
   "execution_count": 105,
   "id": "e07f776e",
   "metadata": {
    "scrolled": true
   },
   "outputs": [
    {
     "data": {
      "text/html": [
       "<div>\n",
       "<style scoped>\n",
       "    .dataframe tbody tr th:only-of-type {\n",
       "        vertical-align: middle;\n",
       "    }\n",
       "\n",
       "    .dataframe tbody tr th {\n",
       "        vertical-align: top;\n",
       "    }\n",
       "\n",
       "    .dataframe thead th {\n",
       "        text-align: right;\n",
       "    }\n",
       "</style>\n",
       "<table border=\"1\" class=\"dataframe\">\n",
       "  <thead>\n",
       "    <tr style=\"text-align: right;\">\n",
       "      <th></th>\n",
       "      <th>Report ID</th>\n",
       "    </tr>\n",
       "    <tr>\n",
       "      <th>Agency (Manual Processing Organisation)</th>\n",
       "      <th></th>\n",
       "    </tr>\n",
       "  </thead>\n",
       "  <tbody>\n",
       "    <tr>\n",
       "      <th>1</th>\n",
       "      <td>37427</td>\n",
       "    </tr>\n",
       "    <tr>\n",
       "      <th>2</th>\n",
       "      <td>8249</td>\n",
       "    </tr>\n",
       "    <tr>\n",
       "      <th>3</th>\n",
       "      <td>6756</td>\n",
       "    </tr>\n",
       "    <tr>\n",
       "      <th>4</th>\n",
       "      <td>33594</td>\n",
       "    </tr>\n",
       "    <tr>\n",
       "      <th>5</th>\n",
       "      <td>28020</td>\n",
       "    </tr>\n",
       "  </tbody>\n",
       "</table>\n",
       "</div>"
      ],
      "text/plain": [
       "                                         Report ID\n",
       "Agency (Manual Processing Organisation)           \n",
       "1                                            37427\n",
       "2                                             8249\n",
       "3                                             6756\n",
       "4                                            33594\n",
       "5                                            28020"
      ]
     },
     "execution_count": 105,
     "metadata": {},
     "output_type": "execute_result"
    }
   ],
   "source": [
    "a = tmp.groupby('Agency (Manual Processing Organisation)').agg({'Report ID': 'count'})\n",
    "a"
   ]
  },
  {
   "cell_type": "code",
   "execution_count": 106,
   "id": "1b90f71e",
   "metadata": {},
   "outputs": [
    {
     "data": {
      "text/html": [
       "<div>\n",
       "<style scoped>\n",
       "    .dataframe tbody tr th:only-of-type {\n",
       "        vertical-align: middle;\n",
       "    }\n",
       "\n",
       "    .dataframe tbody tr th {\n",
       "        vertical-align: top;\n",
       "    }\n",
       "\n",
       "    .dataframe thead th {\n",
       "        text-align: right;\n",
       "    }\n",
       "</style>\n",
       "<table border=\"1\" class=\"dataframe\">\n",
       "  <thead>\n",
       "    <tr style=\"text-align: right;\">\n",
       "      <th></th>\n",
       "      <th></th>\n",
       "      <th>Task Turn-Around-Time (secs)</th>\n",
       "    </tr>\n",
       "    <tr>\n",
       "      <th>Agency (Manual Processing Organisation)</th>\n",
       "      <th>Task Type</th>\n",
       "      <th></th>\n",
       "    </tr>\n",
       "  </thead>\n",
       "  <tbody>\n",
       "    <tr>\n",
       "      <th rowspan=\"3\" valign=\"top\">1</th>\n",
       "      <th>Classification</th>\n",
       "      <td>2034.314974</td>\n",
       "    </tr>\n",
       "    <tr>\n",
       "      <th>Extraction</th>\n",
       "      <td>493.278242</td>\n",
       "    </tr>\n",
       "    <tr>\n",
       "      <th>Fraud Assessment</th>\n",
       "      <td>3154.472056</td>\n",
       "    </tr>\n",
       "    <tr>\n",
       "      <th rowspan=\"3\" valign=\"top\">2</th>\n",
       "      <th>Classification</th>\n",
       "      <td>467.977673</td>\n",
       "    </tr>\n",
       "    <tr>\n",
       "      <th>Extraction</th>\n",
       "      <td>743.567935</td>\n",
       "    </tr>\n",
       "    <tr>\n",
       "      <th>Fraud Assessment</th>\n",
       "      <td>4210.925123</td>\n",
       "    </tr>\n",
       "    <tr>\n",
       "      <th rowspan=\"3\" valign=\"top\">3</th>\n",
       "      <th>Classification</th>\n",
       "      <td>1856.643101</td>\n",
       "    </tr>\n",
       "    <tr>\n",
       "      <th>Extraction</th>\n",
       "      <td>648.284417</td>\n",
       "    </tr>\n",
       "    <tr>\n",
       "      <th>Fraud Assessment</th>\n",
       "      <td>2242.532344</td>\n",
       "    </tr>\n",
       "    <tr>\n",
       "      <th rowspan=\"3\" valign=\"top\">4</th>\n",
       "      <th>Classification</th>\n",
       "      <td>2665.822375</td>\n",
       "    </tr>\n",
       "    <tr>\n",
       "      <th>Extraction</th>\n",
       "      <td>836.057225</td>\n",
       "    </tr>\n",
       "    <tr>\n",
       "      <th>Fraud Assessment</th>\n",
       "      <td>3498.911587</td>\n",
       "    </tr>\n",
       "    <tr>\n",
       "      <th rowspan=\"3\" valign=\"top\">5</th>\n",
       "      <th>Classification</th>\n",
       "      <td>1532.277699</td>\n",
       "    </tr>\n",
       "    <tr>\n",
       "      <th>Extraction</th>\n",
       "      <td>388.384575</td>\n",
       "    </tr>\n",
       "    <tr>\n",
       "      <th>Fraud Assessment</th>\n",
       "      <td>4448.586286</td>\n",
       "    </tr>\n",
       "  </tbody>\n",
       "</table>\n",
       "</div>"
      ],
      "text/plain": [
       "                                                          Task Turn-Around-Time (secs)\n",
       "Agency (Manual Processing Organisation) Task Type                                     \n",
       "1                                       Classification                     2034.314974\n",
       "                                        Extraction                          493.278242\n",
       "                                        Fraud Assessment                   3154.472056\n",
       "2                                       Classification                      467.977673\n",
       "                                        Extraction                          743.567935\n",
       "                                        Fraud Assessment                   4210.925123\n",
       "3                                       Classification                     1856.643101\n",
       "                                        Extraction                          648.284417\n",
       "                                        Fraud Assessment                   2242.532344\n",
       "4                                       Classification                     2665.822375\n",
       "                                        Extraction                          836.057225\n",
       "                                        Fraud Assessment                   3498.911587\n",
       "5                                       Classification                     1532.277699\n",
       "                                        Extraction                          388.384575\n",
       "                                        Fraud Assessment                   4448.586286"
      ]
     },
     "execution_count": 106,
     "metadata": {},
     "output_type": "execute_result"
    }
   ],
   "source": [
    "b = tmp.groupby(['Agency (Manual Processing Organisation)','Task Type']).agg({'Task Turn-Around-Time (secs)': np.nanmean})\n",
    "b"
   ]
  },
  {
   "cell_type": "code",
   "execution_count": 111,
   "id": "ff627e3c",
   "metadata": {},
   "outputs": [
    {
     "data": {
      "text/html": [
       "<div>\n",
       "<style scoped>\n",
       "    .dataframe tbody tr th:only-of-type {\n",
       "        vertical-align: middle;\n",
       "    }\n",
       "\n",
       "    .dataframe tbody tr th {\n",
       "        vertical-align: top;\n",
       "    }\n",
       "\n",
       "    .dataframe thead th {\n",
       "        text-align: right;\n",
       "    }\n",
       "</style>\n",
       "<table border=\"1\" class=\"dataframe\">\n",
       "  <thead>\n",
       "    <tr style=\"text-align: right;\">\n",
       "      <th></th>\n",
       "      <th>Agency (Manual Processing Organisation)</th>\n",
       "      <th>Task Type</th>\n",
       "      <th>Report ID</th>\n",
       "      <th>Task Turn-Around-Time (secs)</th>\n",
       "    </tr>\n",
       "  </thead>\n",
       "  <tbody>\n",
       "    <tr>\n",
       "      <th>0</th>\n",
       "      <td>1</td>\n",
       "      <td>Classification</td>\n",
       "      <td>37427</td>\n",
       "      <td>2034.314974</td>\n",
       "    </tr>\n",
       "    <tr>\n",
       "      <th>1</th>\n",
       "      <td>1</td>\n",
       "      <td>Extraction</td>\n",
       "      <td>37427</td>\n",
       "      <td>493.278242</td>\n",
       "    </tr>\n",
       "    <tr>\n",
       "      <th>2</th>\n",
       "      <td>1</td>\n",
       "      <td>Fraud Assessment</td>\n",
       "      <td>37427</td>\n",
       "      <td>3154.472056</td>\n",
       "    </tr>\n",
       "    <tr>\n",
       "      <th>3</th>\n",
       "      <td>2</td>\n",
       "      <td>Classification</td>\n",
       "      <td>8249</td>\n",
       "      <td>467.977673</td>\n",
       "    </tr>\n",
       "    <tr>\n",
       "      <th>4</th>\n",
       "      <td>2</td>\n",
       "      <td>Extraction</td>\n",
       "      <td>8249</td>\n",
       "      <td>743.567935</td>\n",
       "    </tr>\n",
       "    <tr>\n",
       "      <th>5</th>\n",
       "      <td>2</td>\n",
       "      <td>Fraud Assessment</td>\n",
       "      <td>8249</td>\n",
       "      <td>4210.925123</td>\n",
       "    </tr>\n",
       "    <tr>\n",
       "      <th>6</th>\n",
       "      <td>3</td>\n",
       "      <td>Classification</td>\n",
       "      <td>6756</td>\n",
       "      <td>1856.643101</td>\n",
       "    </tr>\n",
       "    <tr>\n",
       "      <th>7</th>\n",
       "      <td>3</td>\n",
       "      <td>Extraction</td>\n",
       "      <td>6756</td>\n",
       "      <td>648.284417</td>\n",
       "    </tr>\n",
       "    <tr>\n",
       "      <th>8</th>\n",
       "      <td>3</td>\n",
       "      <td>Fraud Assessment</td>\n",
       "      <td>6756</td>\n",
       "      <td>2242.532344</td>\n",
       "    </tr>\n",
       "    <tr>\n",
       "      <th>9</th>\n",
       "      <td>4</td>\n",
       "      <td>Classification</td>\n",
       "      <td>33594</td>\n",
       "      <td>2665.822375</td>\n",
       "    </tr>\n",
       "    <tr>\n",
       "      <th>10</th>\n",
       "      <td>4</td>\n",
       "      <td>Extraction</td>\n",
       "      <td>33594</td>\n",
       "      <td>836.057225</td>\n",
       "    </tr>\n",
       "    <tr>\n",
       "      <th>11</th>\n",
       "      <td>4</td>\n",
       "      <td>Fraud Assessment</td>\n",
       "      <td>33594</td>\n",
       "      <td>3498.911587</td>\n",
       "    </tr>\n",
       "    <tr>\n",
       "      <th>12</th>\n",
       "      <td>5</td>\n",
       "      <td>Classification</td>\n",
       "      <td>28020</td>\n",
       "      <td>1532.277699</td>\n",
       "    </tr>\n",
       "    <tr>\n",
       "      <th>13</th>\n",
       "      <td>5</td>\n",
       "      <td>Extraction</td>\n",
       "      <td>28020</td>\n",
       "      <td>388.384575</td>\n",
       "    </tr>\n",
       "    <tr>\n",
       "      <th>14</th>\n",
       "      <td>5</td>\n",
       "      <td>Fraud Assessment</td>\n",
       "      <td>28020</td>\n",
       "      <td>4448.586286</td>\n",
       "    </tr>\n",
       "  </tbody>\n",
       "</table>\n",
       "</div>"
      ],
      "text/plain": [
       "    Agency (Manual Processing Organisation)         Task Type  Report ID  \\\n",
       "0                                         1    Classification      37427   \n",
       "1                                         1        Extraction      37427   \n",
       "2                                         1  Fraud Assessment      37427   \n",
       "3                                         2    Classification       8249   \n",
       "4                                         2        Extraction       8249   \n",
       "5                                         2  Fraud Assessment       8249   \n",
       "6                                         3    Classification       6756   \n",
       "7                                         3        Extraction       6756   \n",
       "8                                         3  Fraud Assessment       6756   \n",
       "9                                         4    Classification      33594   \n",
       "10                                        4        Extraction      33594   \n",
       "11                                        4  Fraud Assessment      33594   \n",
       "12                                        5    Classification      28020   \n",
       "13                                        5        Extraction      28020   \n",
       "14                                        5  Fraud Assessment      28020   \n",
       "\n",
       "    Task Turn-Around-Time (secs)  \n",
       "0                    2034.314974  \n",
       "1                     493.278242  \n",
       "2                    3154.472056  \n",
       "3                     467.977673  \n",
       "4                     743.567935  \n",
       "5                    4210.925123  \n",
       "6                    1856.643101  \n",
       "7                     648.284417  \n",
       "8                    2242.532344  \n",
       "9                    2665.822375  \n",
       "10                    836.057225  \n",
       "11                   3498.911587  \n",
       "12                   1532.277699  \n",
       "13                    388.384575  \n",
       "14                   4448.586286  "
      ]
     },
     "execution_count": 111,
     "metadata": {},
     "output_type": "execute_result"
    }
   ],
   "source": [
    "c = a.join(b).reset_index()\n",
    "c"
   ]
  },
  {
   "cell_type": "code",
   "execution_count": 113,
   "id": "e566f7c7",
   "metadata": {
    "scrolled": true
   },
   "outputs": [
    {
     "data": {
      "image/png": "[encoded data removed]",
      "text/plain": [
       "<Figure size 720x720 with 1 Axes>"
      ]
     },
     "metadata": {
      "needs_background": "light"
     },
     "output_type": "display_data"
    }
   ],
   "source": [
    "fig, ax = plt.subplots(figsize = (10,10))\n",
    "\n",
    "ax = sns.barplot(x = 'Task Type', \n",
    "                 y = 'Task Turn-Around-Time (secs)', \n",
    "                 hue = 'Agency (Manual Processing Organisation)', data = c)"
   ]
  },
  {
   "cell_type": "code",
   "execution_count": 119,
   "id": "f6c966f9",
   "metadata": {
    "scrolled": false
   },
   "outputs": [
    {
     "data": {
      "text/plain": [
       "Clear                  86397\n",
       "Cannot be processed    13931\n",
       "Suspected              13718\n",
       "Name: Fraud Result, dtype: int64"
      ]
     },
     "execution_count": 119,
     "metadata": {},
     "output_type": "execute_result"
    }
   ],
   "source": [
    "# Are the tasks that take the most time most likely suspicious?\n",
    "\n",
    "tmp['Fraud Result'].value_counts()"
   ]
  },
  {
   "cell_type": "code",
   "execution_count": 127,
   "id": "c7de2669",
   "metadata": {},
   "outputs": [],
   "source": [
    "zaz = tmp.groupby(['Fraud Result','Issuing country']).agg({'Report Turn-Around-Time (secs)': np.nanmean}).reset_index()\n"
   ]
  },
  {
   "cell_type": "code",
   "execution_count": 128,
   "id": "75fd720d",
   "metadata": {},
   "outputs": [],
   "source": [
    "plot_df = zaz[zaz['Issuing country'].isin(top_countries)]"
   ]
  },
  {
   "cell_type": "code",
   "execution_count": 130,
   "id": "4e3b33b2",
   "metadata": {},
   "outputs": [
    {
     "data": {
      "image/png": "[encoded data removed]",
      "text/plain": [
       "<Figure size 720x720 with 1 Axes>"
      ]
     },
     "metadata": {
      "needs_background": "light"
     },
     "output_type": "display_data"
    }
   ],
   "source": [
    "fig, ax = plt.subplots(figsize = (10,10))\n",
    "\n",
    "ax = sns.barplot(x = 'Fraud Result', \n",
    "                 y = 'Report Turn-Around-Time (secs)', \n",
    "                 hue = 'Issuing country', data = plot_df)"
   ]
  },
  {
   "cell_type": "code",
   "execution_count": 114,
   "id": "beda5bf6",
   "metadata": {},
   "outputs": [
    {
     "data": {
      "text/plain": [
       "array(['Luxembourg', 'Belarus', 'South Africa', 'Portugal', 'Philippines',\n",
       "       'Indonesia', 'Australia', 'Poland',\n",
       "       'Venezuela (Bolivarian Republic of)', 'Switzerland', 'Bulgaria',\n",
       "       'Jamaica', 'France', 'Italy',\n",
       "       'United Kingdom of Great Britain and Northern Ireland', 'Canada',\n",
       "       'United States of America', 'Not Available', 'Mexico', 'Lebanon',\n",
       "       'Ireland', 'Netherlands', 'India', 'Malaysia', 'Germany', 'Sweden',\n",
       "       'China', 'Lesotho', 'Togo', 'Singapore', 'Spain',\n",
       "       'United Arab Emirates', 'Dominican Republic', 'Denmark', 'Morocco',\n",
       "       'Ukraine', 'Serbia', 'Bangladesh', 'Taiwan, Province of China'],\n",
       "      dtype=object)"
      ]
     },
     "execution_count": 114,
     "metadata": {},
     "output_type": "execute_result"
    }
   ],
   "source": [
    "# top countries and fraud?\n",
    "\n",
    "top_countries"
   ]
  },
  {
   "cell_type": "code",
   "execution_count": 132,
   "id": "4c109259",
   "metadata": {
    "scrolled": true
   },
   "outputs": [
    {
     "data": {
      "text/html": [
       "<div>\n",
       "<style scoped>\n",
       "    .dataframe tbody tr th:only-of-type {\n",
       "        vertical-align: middle;\n",
       "    }\n",
       "\n",
       "    .dataframe tbody tr th {\n",
       "        vertical-align: top;\n",
       "    }\n",
       "\n",
       "    .dataframe thead th {\n",
       "        text-align: right;\n",
       "    }\n",
       "</style>\n",
       "<table border=\"1\" class=\"dataframe\">\n",
       "  <thead>\n",
       "    <tr style=\"text-align: right;\">\n",
       "      <th></th>\n",
       "      <th>Report ID</th>\n",
       "      <th>Client ID</th>\n",
       "      <th>Fraud Result</th>\n",
       "      <th>Document Type</th>\n",
       "      <th>Issuing country</th>\n",
       "      <th>Report Completed Date</th>\n",
       "      <th>Report Turn-Around-Time (secs)</th>\n",
       "    </tr>\n",
       "  </thead>\n",
       "  <tbody>\n",
       "    <tr>\n",
       "      <th>0</th>\n",
       "      <td>102730387</td>\n",
       "      <td>14</td>\n",
       "      <td>Clear</td>\n",
       "      <td>Passport</td>\n",
       "      <td>Philippines</td>\n",
       "      <td>2021-02-11</td>\n",
       "      <td>147.0</td>\n",
       "    </tr>\n",
       "    <tr>\n",
       "      <th>1</th>\n",
       "      <td>138965999</td>\n",
       "      <td>15</td>\n",
       "      <td>Clear</td>\n",
       "      <td>Passport</td>\n",
       "      <td>United Kingdom of Great Britain and Northern I...</td>\n",
       "      <td>2021-03-13</td>\n",
       "      <td>260.0</td>\n",
       "    </tr>\n",
       "    <tr>\n",
       "      <th>2</th>\n",
       "      <td>117919008</td>\n",
       "      <td>19</td>\n",
       "      <td>Suspected</td>\n",
       "      <td>Driving Licence</td>\n",
       "      <td>United States of America</td>\n",
       "      <td>2021-01-13</td>\n",
       "      <td>160.0</td>\n",
       "    </tr>\n",
       "    <tr>\n",
       "      <th>3</th>\n",
       "      <td>123459413</td>\n",
       "      <td>3</td>\n",
       "      <td>Clear</td>\n",
       "      <td>Passport</td>\n",
       "      <td>Lithuania</td>\n",
       "      <td>2021-01-30</td>\n",
       "      <td>200.0</td>\n",
       "    </tr>\n",
       "    <tr>\n",
       "      <th>4</th>\n",
       "      <td>109493562</td>\n",
       "      <td>7</td>\n",
       "      <td>Clear</td>\n",
       "      <td>Driving Licence</td>\n",
       "      <td>France</td>\n",
       "      <td>2021-03-28</td>\n",
       "      <td>373.0</td>\n",
       "    </tr>\n",
       "  </tbody>\n",
       "</table>\n",
       "</div>"
      ],
      "text/plain": [
       "   Report ID  Client ID Fraud Result    Document Type  \\\n",
       "0  102730387         14        Clear         Passport   \n",
       "1  138965999         15        Clear         Passport   \n",
       "2  117919008         19    Suspected  Driving Licence   \n",
       "3  123459413          3        Clear         Passport   \n",
       "4  109493562          7        Clear  Driving Licence   \n",
       "\n",
       "                                     Issuing country Report Completed Date  \\\n",
       "0                                        Philippines            2021-02-11   \n",
       "1  United Kingdom of Great Britain and Northern I...            2021-03-13   \n",
       "2                           United States of America            2021-01-13   \n",
       "3                                          Lithuania            2021-01-30   \n",
       "4                                             France            2021-03-28   \n",
       "\n",
       "   Report Turn-Around-Time (secs)  \n",
       "0                           147.0  \n",
       "1                           260.0  \n",
       "2                           160.0  \n",
       "3                           200.0  \n",
       "4                           373.0  "
      ]
     },
     "execution_count": 132,
     "metadata": {},
     "output_type": "execute_result"
    }
   ],
   "source": [
    "report.head()"
   ]
  },
  {
   "cell_type": "code",
   "execution_count": 133,
   "id": "009d8e9d",
   "metadata": {
    "scrolled": true
   },
   "outputs": [
    {
     "data": {
      "text/html": [
       "<div>\n",
       "<style scoped>\n",
       "    .dataframe tbody tr th:only-of-type {\n",
       "        vertical-align: middle;\n",
       "    }\n",
       "\n",
       "    .dataframe tbody tr th {\n",
       "        vertical-align: top;\n",
       "    }\n",
       "\n",
       "    .dataframe thead th {\n",
       "        text-align: right;\n",
       "    }\n",
       "</style>\n",
       "<table border=\"1\" class=\"dataframe\">\n",
       "  <thead>\n",
       "    <tr style=\"text-align: right;\">\n",
       "      <th></th>\n",
       "      <th>Report ID</th>\n",
       "      <th>Task ID</th>\n",
       "      <th>Task Type</th>\n",
       "      <th>Task Turn-Around-Time (secs)</th>\n",
       "      <th>Agency (Manual Processing Organisation)</th>\n",
       "      <th>Agent Seniority</th>\n",
       "    </tr>\n",
       "  </thead>\n",
       "  <tbody>\n",
       "    <tr>\n",
       "      <th>0</th>\n",
       "      <td>136115188</td>\n",
       "      <td>69038945</td>\n",
       "      <td>Fraud Assessment</td>\n",
       "      <td>39.0</td>\n",
       "      <td>3</td>\n",
       "      <td>Junior</td>\n",
       "    </tr>\n",
       "    <tr>\n",
       "      <th>1</th>\n",
       "      <td>124025203</td>\n",
       "      <td>60575464</td>\n",
       "      <td>Extraction</td>\n",
       "      <td>118.0</td>\n",
       "      <td>3</td>\n",
       "      <td>Junior</td>\n",
       "    </tr>\n",
       "    <tr>\n",
       "      <th>2</th>\n",
       "      <td>113034309</td>\n",
       "      <td>52564826</td>\n",
       "      <td>Fraud Assessment</td>\n",
       "      <td>35.0</td>\n",
       "      <td>3</td>\n",
       "      <td>Junior</td>\n",
       "    </tr>\n",
       "    <tr>\n",
       "      <th>3</th>\n",
       "      <td>133661310</td>\n",
       "      <td>67305979</td>\n",
       "      <td>Extraction</td>\n",
       "      <td>86.0</td>\n",
       "      <td>3</td>\n",
       "      <td>Junior</td>\n",
       "    </tr>\n",
       "    <tr>\n",
       "      <th>4</th>\n",
       "      <td>133800920</td>\n",
       "      <td>67408713</td>\n",
       "      <td>Fraud Assessment</td>\n",
       "      <td>51.0</td>\n",
       "      <td>3</td>\n",
       "      <td>Junior</td>\n",
       "    </tr>\n",
       "  </tbody>\n",
       "</table>\n",
       "</div>"
      ],
      "text/plain": [
       "   Report ID   Task ID         Task Type  Task Turn-Around-Time (secs)  \\\n",
       "0  136115188  69038945  Fraud Assessment                          39.0   \n",
       "1  124025203  60575464        Extraction                         118.0   \n",
       "2  113034309  52564826  Fraud Assessment                          35.0   \n",
       "3  133661310  67305979        Extraction                          86.0   \n",
       "4  133800920  67408713  Fraud Assessment                          51.0   \n",
       "\n",
       "   Agency (Manual Processing Organisation) Agent Seniority  \n",
       "0                                        3          Junior  \n",
       "1                                        3          Junior  \n",
       "2                                        3          Junior  \n",
       "3                                        3          Junior  \n",
       "4                                        3          Junior  "
      ]
     },
     "execution_count": 133,
     "metadata": {},
     "output_type": "execute_result"
    }
   ],
   "source": [
    "h_a.head()"
   ]
  },
  {
   "cell_type": "code",
   "execution_count": 134,
   "id": "4798b2eb",
   "metadata": {
    "scrolled": true
   },
   "outputs": [
    {
     "data": {
      "text/html": [
       "<div>\n",
       "<style scoped>\n",
       "    .dataframe tbody tr th:only-of-type {\n",
       "        vertical-align: middle;\n",
       "    }\n",
       "\n",
       "    .dataframe tbody tr th {\n",
       "        vertical-align: top;\n",
       "    }\n",
       "\n",
       "    .dataframe thead th {\n",
       "        text-align: right;\n",
       "    }\n",
       "</style>\n",
       "<table border=\"1\" class=\"dataframe\">\n",
       "  <thead>\n",
       "    <tr style=\"text-align: right;\">\n",
       "      <th></th>\n",
       "      <th>Report ID</th>\n",
       "      <th>Task ID</th>\n",
       "      <th>Task Type</th>\n",
       "      <th>Task Turn-Around-Time (secs)</th>\n",
       "      <th>Agency (Manual Processing Organisation)</th>\n",
       "      <th>Agent Seniority</th>\n",
       "    </tr>\n",
       "  </thead>\n",
       "  <tbody>\n",
       "    <tr>\n",
       "      <th>44491</th>\n",
       "      <td>102730387</td>\n",
       "      <td>44620808</td>\n",
       "      <td>Extraction</td>\n",
       "      <td>58.0</td>\n",
       "      <td>2</td>\n",
       "      <td>Senior</td>\n",
       "    </tr>\n",
       "    <tr>\n",
       "      <th>49944</th>\n",
       "      <td>102730387</td>\n",
       "      <td>44620809</td>\n",
       "      <td>Fraud Assessment</td>\n",
       "      <td>14.0</td>\n",
       "      <td>2</td>\n",
       "      <td>Senior</td>\n",
       "    </tr>\n",
       "    <tr>\n",
       "      <th>99084</th>\n",
       "      <td>102730387</td>\n",
       "      <td>44620727</td>\n",
       "      <td>Classification</td>\n",
       "      <td>35.0</td>\n",
       "      <td>5</td>\n",
       "      <td>Junior</td>\n",
       "    </tr>\n",
       "  </tbody>\n",
       "</table>\n",
       "</div>"
      ],
      "text/plain": [
       "       Report ID   Task ID         Task Type  Task Turn-Around-Time (secs)  \\\n",
       "44491  102730387  44620808        Extraction                          58.0   \n",
       "49944  102730387  44620809  Fraud Assessment                          14.0   \n",
       "99084  102730387  44620727    Classification                          35.0   \n",
       "\n",
       "       Agency (Manual Processing Organisation) Agent Seniority  \n",
       "44491                                        2          Senior  \n",
       "49944                                        2          Senior  \n",
       "99084                                        5          Junior  "
      ]
     },
     "execution_count": 134,
     "metadata": {},
     "output_type": "execute_result"
    }
   ],
   "source": [
    "h_a[h_a['Report ID'] == 102730387]"
   ]
  },
  {
   "cell_type": "code",
   "execution_count": 135,
   "id": "cce372f2",
   "metadata": {},
   "outputs": [
    {
     "data": {
      "text/html": [
       "<div>\n",
       "<style scoped>\n",
       "    .dataframe tbody tr th:only-of-type {\n",
       "        vertical-align: middle;\n",
       "    }\n",
       "\n",
       "    .dataframe tbody tr th {\n",
       "        vertical-align: top;\n",
       "    }\n",
       "\n",
       "    .dataframe thead th {\n",
       "        text-align: right;\n",
       "    }\n",
       "</style>\n",
       "<table border=\"1\" class=\"dataframe\">\n",
       "  <thead>\n",
       "    <tr style=\"text-align: right;\">\n",
       "      <th></th>\n",
       "      <th>Report ID</th>\n",
       "      <th>Client ID</th>\n",
       "      <th>Fraud Result</th>\n",
       "      <th>Document Type</th>\n",
       "      <th>Issuing country</th>\n",
       "      <th>Report Completed Date</th>\n",
       "      <th>Report Turn-Around-Time (secs)</th>\n",
       "    </tr>\n",
       "  </thead>\n",
       "  <tbody>\n",
       "    <tr>\n",
       "      <th>0</th>\n",
       "      <td>102730387</td>\n",
       "      <td>14</td>\n",
       "      <td>Clear</td>\n",
       "      <td>Passport</td>\n",
       "      <td>Philippines</td>\n",
       "      <td>2021-02-11</td>\n",
       "      <td>147.0</td>\n",
       "    </tr>\n",
       "  </tbody>\n",
       "</table>\n",
       "</div>"
      ],
      "text/plain": [
       "   Report ID  Client ID Fraud Result Document Type Issuing country  \\\n",
       "0  102730387         14        Clear      Passport     Philippines   \n",
       "\n",
       "  Report Completed Date  Report Turn-Around-Time (secs)  \n",
       "0            2021-02-11                           147.0  "
      ]
     },
     "execution_count": 135,
     "metadata": {},
     "output_type": "execute_result"
    }
   ],
   "source": [
    "report[report['Report ID'] == 102730387]"
   ]
  },
  {
   "cell_type": "code",
   "execution_count": null,
   "id": "44dc0a7a",
   "metadata": {},
   "outputs": [],
   "source": [
    "# What agency is good with what?\n",
    "\n"
   ]
  },
  {
   "cell_type": "code",
   "execution_count": null,
   "id": "ea89e61a",
   "metadata": {},
   "outputs": [],
   "source": [
    "# agencies taskforce eval?\n",
    "\n"
   ]
  },
  {
   "cell_type": "code",
   "execution_count": null,
   "id": "bf4480ec",
   "metadata": {},
   "outputs": [],
   "source": []
  },
  {
   "cell_type": "code",
   "execution_count": null,
   "id": "731683ad",
   "metadata": {},
   "outputs": [],
   "source": []
  },
  {
   "cell_type": "code",
   "execution_count": null,
   "id": "dd01bf3d",
   "metadata": {},
   "outputs": [],
   "source": []
  },
  {
   "cell_type": "code",
   "execution_count": null,
   "id": "391c3905",
   "metadata": {},
   "outputs": [],
   "source": []
  },
  {
   "cell_type": "code",
   "execution_count": null,
   "id": "ab500646",
   "metadata": {},
   "outputs": [],
   "source": []
  },
  {
   "cell_type": "code",
   "execution_count": null,
   "id": "e0ee786a",
   "metadata": {},
   "outputs": [],
   "source": []
  },
  {
   "cell_type": "code",
   "execution_count": null,
   "id": "899e970a",
   "metadata": {},
   "outputs": [],
   "source": []
  },
  {
   "cell_type": "code",
   "execution_count": null,
   "id": "2d1be82d",
   "metadata": {},
   "outputs": [],
   "source": []
  }
 ],
 "metadata": {
  "kernelspec": {
   "display_name": "Python 3 (ipykernel)",
   "language": "python",
   "name": "python3"
  },
  "language_info": {
   "codemirror_mode": {
    "name": "ipython",
    "version": 3
   },
   "file_extension": ".py",
   "mimetype": "text/x-python",
   "name": "python",
   "nbconvert_exporter": "python",
   "pygments_lexer": "ipython3",
   "version": "3.8.0"
  }
 },
 "nbformat": 4,
 "nbformat_minor": 5
}
